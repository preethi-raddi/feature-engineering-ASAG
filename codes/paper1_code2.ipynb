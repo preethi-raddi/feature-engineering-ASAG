{
  "nbformat": 4,
  "nbformat_minor": 0,
  "metadata": {
    "colab": {
      "provenance": [],
      "gpuType": "T4",
      "authorship_tag": "ABX9TyP1Xm4tVb8gv6IaM7VY0QgB",
      "include_colab_link": true
    },
    "kernelspec": {
      "name": "ir",
      "display_name": "R"
    },
    "language_info": {
      "name": "R"
    },
    "accelerator": "GPU"
  },
  "cells": [
    {
      "cell_type": "markdown",
      "metadata": {
        "id": "view-in-github",
        "colab_type": "text"
      },
      "source": [
        "<a href=\"https://colab.research.google.com/github/preethi-raddi/feature-engineering-ASAG/blob/main/paper1_code2.ipynb\" target=\"_parent\"><img src=\"https://colab.research.google.com/assets/colab-badge.svg\" alt=\"Open In Colab\"/></a>"
      ]
    },
    {
      "cell_type": "code",
      "source": [
        "install.packages(c(\"caret\", \"e1071\", \"randomForest\", \"tm\",\"text2vec\"))"
      ],
      "metadata": {
        "colab": {
          "base_uri": "https://localhost:8080/"
        },
        "id": "e1vP40ecCtds",
        "outputId": "000b125e-934a-47c7-96a4-f5a5cfa9d5c2"
      },
      "execution_count": 1,
      "outputs": [
        {
          "output_type": "stream",
          "name": "stderr",
          "text": [
            "Installing packages into ‘/usr/local/lib/R/site-library’\n",
            "(as ‘lib’ is unspecified)\n",
            "\n",
            "also installing the dependencies ‘listenv’, ‘parallelly’, ‘future’, ‘globals’, ‘shape’, ‘future.apply’, ‘numDeriv’, ‘progressr’, ‘SQUAREM’, ‘diagram’, ‘lava’, ‘prodlim’, ‘iterators’, ‘clock’, ‘gower’, ‘hardhat’, ‘ipred’, ‘sparsevctrs’, ‘timeDate’, ‘MatrixExtra’, ‘float’, ‘RhpcBLASctl’, ‘RcppArmadillo’, ‘foreach’, ‘ModelMetrics’, ‘plyr’, ‘pROC’, ‘recipes’, ‘reshape2’, ‘proxy’, ‘NLP’, ‘slam’, ‘BH’, ‘rsparse’, ‘mlapi’, ‘lgr’\n",
            "\n",
            "\n"
          ]
        }
      ]
    },
    {
      "cell_type": "code",
      "execution_count": 2,
      "metadata": {
        "colab": {
          "base_uri": "https://localhost:8080/"
        },
        "id": "BC0CcsxQCcww",
        "outputId": "c14e40b2-e3d3-4e1b-f02e-f1afe2a167f1"
      },
      "outputs": [
        {
          "output_type": "stream",
          "name": "stderr",
          "text": [
            "Loading required package: NLP\n",
            "\n"
          ]
        }
      ],
      "source": [
        "# Loading necessary libraries\n",
        "library(tm)\n",
        "library(text2vec)\n",
        "library(stringr)"
      ]
    },
    {
      "cell_type": "code",
      "source": [
        "# Sample Dataset\n",
        "data <- read.csv(\"/content/data_da2.csv\")\n",
        "\n",
        "head(data,10)"
      ],
      "metadata": {
        "colab": {
          "base_uri": "https://localhost:8080/",
          "height": 602
        },
        "id": "LZSit9ZJFw4E",
        "outputId": "34d3ed08-31f8-450b-8cda-6e6dc10f5674"
      },
      "execution_count": 3,
      "outputs": [
        {
          "output_type": "display_data",
          "data": {
            "text/html": [
              "<table class=\"dataframe\">\n",
              "<caption>A data.frame: 10 × 7</caption>\n",
              "<thead>\n",
              "\t<tr><th></th><th scope=col>id</th><th scope=col>question</th><th scope=col>desired_answer</th><th scope=col>student_answer</th><th scope=col>score_me</th><th scope=col>score_other</th><th scope=col>score_avg</th></tr>\n",
              "\t<tr><th></th><th scope=col>&lt;dbl&gt;</th><th scope=col>&lt;chr&gt;</th><th scope=col>&lt;chr&gt;</th><th scope=col>&lt;chr&gt;</th><th scope=col>&lt;int&gt;</th><th scope=col>&lt;int&gt;</th><th scope=col>&lt;dbl&gt;</th></tr>\n",
              "</thead>\n",
              "<tbody>\n",
              "\t<tr><th scope=row>1</th><td>3.2</td><td>What is the scope of global variables?</td><td>File scope.</td><td>Any functions that follows their deceleration that  are in the source code file are allowed to have access the variables.  Also global scope variables retrain their value throughout the execution of the program.                                                                                             </td><td>5</td><td>5</td><td>5.0</td></tr>\n",
              "\t<tr><th scope=row>2</th><td>3.2</td><td>What is the scope of global variables?</td><td>File scope.</td><td>they can be accessed by any C++ file anywhere.                                                                                                                                                                                                                                                                  </td><td>0</td><td>5</td><td>2.5</td></tr>\n",
              "\t<tr><th scope=row>3</th><td>3.2</td><td>What is the scope of global variables?</td><td>File scope.</td><td>Global variables have file scope.                                                                                                                                                                                                                                                                               </td><td>5</td><td>5</td><td>5.0</td></tr>\n",
              "\t<tr><th scope=row>4</th><td>3.2</td><td>What is the scope of global variables?</td><td>File scope.</td><td>The scope of global variables are created by placing variable declarations outside any class or function definition.  Global variables retain their values throughout the execution of the program and they can be referenced by any function that follows their declarations or definitions in the source file.</td><td>0</td><td>5</td><td>2.5</td></tr>\n",
              "\t<tr><th scope=row>5</th><td>3.2</td><td>What is the scope of global variables?</td><td>File scope.</td><td>A global variable is an identifier that retains it's value throughout the execution of the program. It has file scope.                                                                                                                                                                                          </td><td>5</td><td>5</td><td>5.0</td></tr>\n",
              "\t<tr><th scope=row>6</th><td>3.2</td><td>What is the scope of global variables?</td><td>File scope.</td><td>Global Variables can be used in any function as long as the appropriate .h file that holds the variable is included                                                                                                                                                                                             </td><td>3</td><td>5</td><td>4.0</td></tr>\n",
              "\t<tr><th scope=row>7</th><td>3.2</td><td>What is the scope of global variables?</td><td>File scope.</td><td>They can be accessed by any part of the program. It can be referenced by any function that follows the declarations or definitions in the source file.                                                                                                                                                          </td><td>5</td><td>5</td><td>5.0</td></tr>\n",
              "\t<tr><th scope=row>8</th><td>3.2</td><td>What is the scope of global variables?</td><td>File scope.</td><td>can be accesed by any classes that have and object of that variables class in it                                                                                                                                                                                                                                </td><td>1</td><td>5</td><td>3.0</td></tr>\n",
              "\t<tr><th scope=row>9</th><td>3.2</td><td>What is the scope of global variables?</td><td>File scope.</td><td>Global variables have file-scope.  The variable is know to all functions throught the file                                                                                                                                                                                                                      </td><td>5</td><td>5</td><td>5.0</td></tr>\n",
              "\t<tr><th scope=row>10</th><td>3.2</td><td>What is the scope of global variables?</td><td>File scope.</td><td>The entire program                                                                                                                                                                                                                                                                                              </td><td>4</td><td>5</td><td>4.5</td></tr>\n",
              "</tbody>\n",
              "</table>\n"
            ],
            "text/markdown": "\nA data.frame: 10 × 7\n\n| <!--/--> | id &lt;dbl&gt; | question &lt;chr&gt; | desired_answer &lt;chr&gt; | student_answer &lt;chr&gt; | score_me &lt;int&gt; | score_other &lt;int&gt; | score_avg &lt;dbl&gt; |\n|---|---|---|---|---|---|---|---|\n| 1 | 3.2 | What is the scope of global variables? | File scope. | Any functions that follows their deceleration that  are in the source code file are allowed to have access the variables.  Also global scope variables retrain their value throughout the execution of the program.                                                                                              | 5 | 5 | 5.0 |\n| 2 | 3.2 | What is the scope of global variables? | File scope. | they can be accessed by any C++ file anywhere.                                                                                                                                                                                                                                                                   | 0 | 5 | 2.5 |\n| 3 | 3.2 | What is the scope of global variables? | File scope. | Global variables have file scope.                                                                                                                                                                                                                                                                                | 5 | 5 | 5.0 |\n| 4 | 3.2 | What is the scope of global variables? | File scope. | The scope of global variables are created by placing variable declarations outside any class or function definition.  Global variables retain their values throughout the execution of the program and they can be referenced by any function that follows their declarations or definitions in the source file. | 0 | 5 | 2.5 |\n| 5 | 3.2 | What is the scope of global variables? | File scope. | A global variable is an identifier that retains it's value throughout the execution of the program. It has file scope.                                                                                                                                                                                           | 5 | 5 | 5.0 |\n| 6 | 3.2 | What is the scope of global variables? | File scope. | Global Variables can be used in any function as long as the appropriate .h file that holds the variable is included                                                                                                                                                                                              | 3 | 5 | 4.0 |\n| 7 | 3.2 | What is the scope of global variables? | File scope. | They can be accessed by any part of the program. It can be referenced by any function that follows the declarations or definitions in the source file.                                                                                                                                                           | 5 | 5 | 5.0 |\n| 8 | 3.2 | What is the scope of global variables? | File scope. | can be accesed by any classes that have and object of that variables class in it                                                                                                                                                                                                                                 | 1 | 5 | 3.0 |\n| 9 | 3.2 | What is the scope of global variables? | File scope. | Global variables have file-scope.  The variable is know to all functions throught the file                                                                                                                                                                                                                       | 5 | 5 | 5.0 |\n| 10 | 3.2 | What is the scope of global variables? | File scope. | The entire program                                                                                                                                                                                                                                                                                               | 4 | 5 | 4.5 |\n\n",
            "text/latex": "A data.frame: 10 × 7\n\\begin{tabular}{r|lllllll}\n  & id & question & desired\\_answer & student\\_answer & score\\_me & score\\_other & score\\_avg\\\\\n  & <dbl> & <chr> & <chr> & <chr> & <int> & <int> & <dbl>\\\\\n\\hline\n\t1 & 3.2 & What is the scope of global variables? & File scope. & Any functions that follows their deceleration that  are in the source code file are allowed to have access the variables.  Also global scope variables retrain their value throughout the execution of the program.                                                                                              & 5 & 5 & 5.0\\\\\n\t2 & 3.2 & What is the scope of global variables? & File scope. & they can be accessed by any C++ file anywhere.                                                                                                                                                                                                                                                                   & 0 & 5 & 2.5\\\\\n\t3 & 3.2 & What is the scope of global variables? & File scope. & Global variables have file scope.                                                                                                                                                                                                                                                                                & 5 & 5 & 5.0\\\\\n\t4 & 3.2 & What is the scope of global variables? & File scope. & The scope of global variables are created by placing variable declarations outside any class or function definition.  Global variables retain their values throughout the execution of the program and they can be referenced by any function that follows their declarations or definitions in the source file. & 0 & 5 & 2.5\\\\\n\t5 & 3.2 & What is the scope of global variables? & File scope. & A global variable is an identifier that retains it's value throughout the execution of the program. It has file scope.                                                                                                                                                                                           & 5 & 5 & 5.0\\\\\n\t6 & 3.2 & What is the scope of global variables? & File scope. & Global Variables can be used in any function as long as the appropriate .h file that holds the variable is included                                                                                                                                                                                              & 3 & 5 & 4.0\\\\\n\t7 & 3.2 & What is the scope of global variables? & File scope. & They can be accessed by any part of the program. It can be referenced by any function that follows the declarations or definitions in the source file.                                                                                                                                                           & 5 & 5 & 5.0\\\\\n\t8 & 3.2 & What is the scope of global variables? & File scope. & can be accesed by any classes that have and object of that variables class in it                                                                                                                                                                                                                                 & 1 & 5 & 3.0\\\\\n\t9 & 3.2 & What is the scope of global variables? & File scope. & Global variables have file-scope.  The variable is know to all functions throught the file                                                                                                                                                                                                                       & 5 & 5 & 5.0\\\\\n\t10 & 3.2 & What is the scope of global variables? & File scope. & The entire program                                                                                                                                                                                                                                                                                               & 4 & 5 & 4.5\\\\\n\\end{tabular}\n",
            "text/plain": [
              "   id  question                               desired_answer\n",
              "1  3.2 What is the scope of global variables? File scope.   \n",
              "2  3.2 What is the scope of global variables? File scope.   \n",
              "3  3.2 What is the scope of global variables? File scope.   \n",
              "4  3.2 What is the scope of global variables? File scope.   \n",
              "5  3.2 What is the scope of global variables? File scope.   \n",
              "6  3.2 What is the scope of global variables? File scope.   \n",
              "7  3.2 What is the scope of global variables? File scope.   \n",
              "8  3.2 What is the scope of global variables? File scope.   \n",
              "9  3.2 What is the scope of global variables? File scope.   \n",
              "10 3.2 What is the scope of global variables? File scope.   \n",
              "   student_answer                                                                                                                                                                                                                                                                                                  \n",
              "1  Any functions that follows their deceleration that  are in the source code file are allowed to have access the variables.  Also global scope variables retrain their value throughout the execution of the program.                                                                                             \n",
              "2  they can be accessed by any C++ file anywhere.                                                                                                                                                                                                                                                                  \n",
              "3  Global variables have file scope.                                                                                                                                                                                                                                                                               \n",
              "4  The scope of global variables are created by placing variable declarations outside any class or function definition.  Global variables retain their values throughout the execution of the program and they can be referenced by any function that follows their declarations or definitions in the source file.\n",
              "5  A global variable is an identifier that retains it's value throughout the execution of the program. It has file scope.                                                                                                                                                                                          \n",
              "6  Global Variables can be used in any function as long as the appropriate .h file that holds the variable is included                                                                                                                                                                                             \n",
              "7  They can be accessed by any part of the program. It can be referenced by any function that follows the declarations or definitions in the source file.                                                                                                                                                          \n",
              "8  can be accesed by any classes that have and object of that variables class in it                                                                                                                                                                                                                                \n",
              "9  Global variables have file-scope.  The variable is know to all functions throught the file                                                                                                                                                                                                                      \n",
              "10 The entire program                                                                                                                                                                                                                                                                                              \n",
              "   score_me score_other score_avg\n",
              "1  5        5           5.0      \n",
              "2  0        5           2.5      \n",
              "3  5        5           5.0      \n",
              "4  0        5           2.5      \n",
              "5  5        5           5.0      \n",
              "6  3        5           4.0      \n",
              "7  5        5           5.0      \n",
              "8  1        5           3.0      \n",
              "9  5        5           5.0      \n",
              "10 4        5           4.5      "
            ]
          },
          "metadata": {}
        }
      ]
    },
    {
      "cell_type": "code",
      "source": [
        "# Preprocessing Function for Text\n",
        "preprocess_text <- function(text) {\n",
        "  corpus <- Corpus(VectorSource(text))\n",
        "  corpus <- tm_map(corpus, content_transformer(tolower))\n",
        "  corpus <- tm_map(corpus, removePunctuation)\n",
        "  corpus <- tm_map(corpus, removeWords, stopwords(\"en\"))\n",
        "  corpus <- tm_map(corpus, stripWhitespace)\n",
        "  return(unlist(strsplit(as.character(corpus[[1]]$content), \" \")))\n",
        "}\n",
        "\n",
        "# Apply Preprocessing\n",
        "data$StudentKeywords <- lapply(data$student_answer, preprocess_text)\n",
        "data$ModelKeywords <- list(preprocess_text(data$desired_answer[1]))"
      ],
      "metadata": {
        "id": "fGqKYHJpGBLX"
      },
      "execution_count": null,
      "outputs": []
    },
    {
      "cell_type": "code",
      "source": [
        "# Function to Compute Jaccard Similarity\n",
        "jaccard_similarity <- function(set1, set2) {\n",
        "  intersection <- length(intersect(set1, set2))\n",
        "  union <- length(unique(c(set1, set2)))\n",
        "  return(intersection / union)\n",
        "}"
      ],
      "metadata": {
        "id": "u3nNjEHQGT5N"
      },
      "execution_count": 6,
      "outputs": []
    },
    {
      "cell_type": "code",
      "source": [
        "# Compute Keyword Similarities\n",
        "data$KeywordSimilarity <- sapply(data$StudentKeywords, function(student) {\n",
        "  jaccard_similarity(student, unlist(data$ModelKeywords))\n",
        "})"
      ],
      "metadata": {
        "id": "apKe5ZTOGd-0"
      },
      "execution_count": 7,
      "outputs": []
    },
    {
      "cell_type": "code",
      "source": [
        "# Identify High-Similarity Keywords\n",
        "threshold <- 0.5  # Set threshold for high similarity\n",
        "high_similarity_keywords <- list()\n",
        "for (i in 1:nrow(data)) {\n",
        "  if (data$KeywordSimilarity[i] >= threshold) {\n",
        "    high_similarity_keywords <- unique(c(high_similarity_keywords, data$StudentKeywords[[i]]))\n",
        "  }\n",
        "}"
      ],
      "metadata": {
        "id": "qpEPWM5QGjTs"
      },
      "execution_count": 8,
      "outputs": []
    },
    {
      "cell_type": "code",
      "source": [
        "# Mutate Model Answer Key\n",
        "updated_model_keywords <- unique(c(unlist(data$ModelKeywords), high_similarity_keywords))\n",
        "\n",
        "print(updated_model_keywords)"
      ],
      "metadata": {
        "colab": {
          "base_uri": "https://localhost:8080/"
        },
        "id": "pAuKofOsGlno",
        "outputId": "8b971c83-3c20-4250-b9f4-c472feab9d17"
      },
      "execution_count": 9,
      "outputs": [
        {
          "output_type": "stream",
          "name": "stdout",
          "text": [
            "[[1]]\n",
            "[1] \"file\"\n",
            "\n",
            "[[2]]\n",
            "[1] \"scope\"\n",
            "\n",
            "[[3]]\n",
            "[1] \"global\"\n",
            "\n",
            "[[4]]\n",
            "[1] \"variables\"\n",
            "\n"
          ]
        }
      ]
    }
  ]
}
